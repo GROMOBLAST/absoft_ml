{
 "cells": [
  {
   "cell_type": "code",
   "execution_count": 1,
   "metadata": {},
   "outputs": [],
   "source": [
    "import warnings\n",
    "import pandas as pd\n",
    "import numpy as np\n",
    "import seaborn as sns\n",
    "from scipy.stats import normaltest, skew, kurtosis\n",
    "from sklearn.metrics import mean_absolute_error, make_scorer, classification_report\n",
    "from sklearn.preprocessing import OneHotEncoder, LabelEncoder, StandardScaler\n",
    "from pymorphy2 import MorphAnalyzer\n",
    "\n",
    "%matplotlib inline\n",
    "from matplotlib import pyplot as plt\n",
    "warnings.filterwarnings('ignore')\n",
    "sns.set_style('whitegrid')"
   ]
  },
  {
   "cell_type": "markdown",
   "metadata": {},
   "source": [
    "## Содержание"
   ]
  },
  {
   "cell_type": "markdown",
   "metadata": {},
   "source": [
    "1. Описание набора данных и признаков\n",
    "2. Первичный анализ данных\n",
    "3. Первичный визуальный анализ данных\n",
    "4. Инсайты и закономерности\n",
    "5. Выбор метрики\n",
    "6. Выбор модели\n",
    "7. Предобработка данных\n",
    "8. Кросс-валидация и настройка гиперпараметров модели\n",
    "9. Построение кривых валидации и обучения\n",
    "11. Прогноз для отложенной выборке\n",
    "12. Выводы"
   ]
  },
  {
   "cell_type": "markdown",
   "metadata": {},
   "source": [
    "### 1. Описание набора данных и признаков"
   ]
  },
  {
   "cell_type": "markdown",
   "metadata": {},
   "source": [
    "#### Задача:\n"
   ]
  },
  {
   "cell_type": "markdown",
   "metadata": {},
   "source": [
    " 1. Необходимо реализовать модель на основе предоставленного датасета \"АВСОФТ_тест_ML_приложение.csv\"\n",
    "    "
   ]
  },
  {
   "cell_type": "markdown",
   "metadata": {},
   "source": [
    "### Признаки:"
   ]
  },
  {
   "cell_type": "markdown",
   "metadata": {},
   "source": [
    "- **repository_name** - имя репозитория\n",
    "- **commit_hash** - идентификатор коммита\n",
    "- **commit_date** - дата коммита\n",
    "- **commit_author** - автор коммита\n",
    "- **commit_message** - комментарий к коммиту\n"
   ]
  },
  {
   "cell_type": "markdown",
   "metadata": {},
   "source": [
    "### Целевая переменная:\n",
    " \n",
    " `bugs` "
   ]
  },
  {
   "cell_type": "markdown",
   "metadata": {},
   "source": [
    "Считаем данные"
   ]
  },
  {
   "cell_type": "code",
   "execution_count": 2,
   "metadata": {},
   "outputs": [],
   "source": [
    "data = pd.read_csv('АВСОФТ_тест_ML_приложение.csv')"
   ]
  },
  {
   "cell_type": "code",
   "execution_count": 3,
   "metadata": {
    "scrolled": true
   },
   "outputs": [
    {
     "data": {
      "text/html": [
       "<div>\n",
       "<style scoped>\n",
       "    .dataframe tbody tr th:only-of-type {\n",
       "        vertical-align: middle;\n",
       "    }\n",
       "\n",
       "    .dataframe tbody tr th {\n",
       "        vertical-align: top;\n",
       "    }\n",
       "\n",
       "    .dataframe thead th {\n",
       "        text-align: right;\n",
       "    }\n",
       "</style>\n",
       "<table border=\"1\" class=\"dataframe\">\n",
       "  <thead>\n",
       "    <tr style=\"text-align: right;\">\n",
       "      <th></th>\n",
       "      <th>repository_name</th>\n",
       "      <th>commit_hash</th>\n",
       "      <th>commit_date</th>\n",
       "      <th>commit_author</th>\n",
       "      <th>commit_message</th>\n",
       "      <th>bugs</th>\n",
       "    </tr>\n",
       "  </thead>\n",
       "  <tbody>\n",
       "    <tr>\n",
       "      <th>0</th>\n",
       "      <td>mlm</td>\n",
       "      <td>b28abb42</td>\n",
       "      <td>2020-06-12T14:26:12</td>\n",
       "      <td>Victor</td>\n",
       "      <td>объяснения предсказаний с помощью lime</td>\n",
       "      <td>4</td>\n",
       "    </tr>\n",
       "    <tr>\n",
       "      <th>1</th>\n",
       "      <td>mlm</td>\n",
       "      <td>438b5c4d</td>\n",
       "      <td>2020-06-12T11:53:10</td>\n",
       "      <td>Victor</td>\n",
       "      <td>Поставил lime вместо eli5</td>\n",
       "      <td>3</td>\n",
       "    </tr>\n",
       "    <tr>\n",
       "      <th>2</th>\n",
       "      <td>mlm</td>\n",
       "      <td>8e6e4f31</td>\n",
       "      <td>2020-06-11T15:19:03</td>\n",
       "      <td>Victor</td>\n",
       "      <td>Скрипт для создния пакетов обновления</td>\n",
       "      <td>4</td>\n",
       "    </tr>\n",
       "    <tr>\n",
       "      <th>3</th>\n",
       "      <td>mlm</td>\n",
       "      <td>5e0956a6</td>\n",
       "      <td>2020-06-11T10:42:29</td>\n",
       "      <td>Victor</td>\n",
       "      <td>Сортировка весов по убыванию</td>\n",
       "      <td>3</td>\n",
       "    </tr>\n",
       "    <tr>\n",
       "      <th>4</th>\n",
       "      <td>mlm</td>\n",
       "      <td>b9f4b40c</td>\n",
       "      <td>2020-06-11T09:25:19</td>\n",
       "      <td>Victor</td>\n",
       "      <td>не надо конвертировать массив до операции по с...</td>\n",
       "      <td>7</td>\n",
       "    </tr>\n",
       "  </tbody>\n",
       "</table>\n",
       "</div>"
      ],
      "text/plain": [
       "  repository_name commit_hash          commit_date commit_author  \\\n",
       "0             mlm    b28abb42  2020-06-12T14:26:12        Victor   \n",
       "1             mlm    438b5c4d  2020-06-12T11:53:10        Victor   \n",
       "2             mlm    8e6e4f31  2020-06-11T15:19:03        Victor   \n",
       "3             mlm    5e0956a6  2020-06-11T10:42:29        Victor   \n",
       "4             mlm    b9f4b40c  2020-06-11T09:25:19        Victor   \n",
       "\n",
       "                                      commit_message  bugs  \n",
       "0             объяснения предсказаний с помощью lime     4  \n",
       "1                          Поставил lime вместо eli5     3  \n",
       "2              Скрипт для создния пакетов обновления     4  \n",
       "3                       Сортировка весов по убыванию     3  \n",
       "4  не надо конвертировать массив до операции по с...     7  "
      ]
     },
     "execution_count": 3,
     "metadata": {},
     "output_type": "execute_result"
    }
   ],
   "source": [
    "data.head()"
   ]
  },
  {
   "cell_type": "code",
   "execution_count": 4,
   "metadata": {},
   "outputs": [
    {
     "name": "stdout",
     "output_type": "stream",
     "text": [
      "<class 'pandas.core.frame.DataFrame'>\n",
      "RangeIndex: 319 entries, 0 to 318\n",
      "Data columns (total 6 columns):\n",
      "repository_name    319 non-null object\n",
      "commit_hash        319 non-null object\n",
      "commit_date        319 non-null object\n",
      "commit_author      319 non-null object\n",
      "commit_message     319 non-null object\n",
      "bugs               319 non-null int64\n",
      "dtypes: int64(1), object(5)\n",
      "memory usage: 15.0+ KB\n"
     ]
    }
   ],
   "source": [
    "data.info()"
   ]
  },
  {
   "cell_type": "markdown",
   "metadata": {},
   "source": [
    "### 2. Первичный анализ данных"
   ]
  },
  {
   "cell_type": "code",
   "execution_count": 5,
   "metadata": {},
   "outputs": [
    {
     "data": {
      "text/html": [
       "<div>\n",
       "<style scoped>\n",
       "    .dataframe tbody tr th:only-of-type {\n",
       "        vertical-align: middle;\n",
       "    }\n",
       "\n",
       "    .dataframe tbody tr th {\n",
       "        vertical-align: top;\n",
       "    }\n",
       "\n",
       "    .dataframe thead th {\n",
       "        text-align: right;\n",
       "    }\n",
       "</style>\n",
       "<table border=\"1\" class=\"dataframe\">\n",
       "  <thead>\n",
       "    <tr style=\"text-align: right;\">\n",
       "      <th></th>\n",
       "      <th>repository_name</th>\n",
       "      <th>commit_hash</th>\n",
       "      <th>commit_date</th>\n",
       "      <th>commit_author</th>\n",
       "      <th>commit_message</th>\n",
       "    </tr>\n",
       "  </thead>\n",
       "  <tbody>\n",
       "    <tr>\n",
       "      <th>count</th>\n",
       "      <td>319</td>\n",
       "      <td>319</td>\n",
       "      <td>319</td>\n",
       "      <td>319</td>\n",
       "      <td>319</td>\n",
       "    </tr>\n",
       "    <tr>\n",
       "      <th>unique</th>\n",
       "      <td>6</td>\n",
       "      <td>319</td>\n",
       "      <td>318</td>\n",
       "      <td>10</td>\n",
       "      <td>309</td>\n",
       "    </tr>\n",
       "    <tr>\n",
       "      <th>top</th>\n",
       "      <td>conductor</td>\n",
       "      <td>34c1e635</td>\n",
       "      <td>2020-06-10T10:17:03</td>\n",
       "      <td>Victor</td>\n",
       "      <td>Merge branch 'changes-to-merge' into 'master'</td>\n",
       "    </tr>\n",
       "    <tr>\n",
       "      <th>freq</th>\n",
       "      <td>114</td>\n",
       "      <td>1</td>\n",
       "      <td>2</td>\n",
       "      <td>134</td>\n",
       "      <td>4</td>\n",
       "    </tr>\n",
       "  </tbody>\n",
       "</table>\n",
       "</div>"
      ],
      "text/plain": [
       "       repository_name commit_hash          commit_date commit_author  \\\n",
       "count              319         319                  319           319   \n",
       "unique               6         319                  318            10   \n",
       "top          conductor    34c1e635  2020-06-10T10:17:03        Victor   \n",
       "freq               114           1                    2           134   \n",
       "\n",
       "                                       commit_message  \n",
       "count                                             319  \n",
       "unique                                            309  \n",
       "top     Merge branch 'changes-to-merge' into 'master'  \n",
       "freq                                                4  "
      ]
     },
     "execution_count": 5,
     "metadata": {},
     "output_type": "execute_result"
    }
   ],
   "source": [
    "data.describe(include=['object'])"
   ]
  },
  {
   "cell_type": "code",
   "execution_count": 6,
   "metadata": {},
   "outputs": [
    {
     "data": {
      "text/html": [
       "<div>\n",
       "<style scoped>\n",
       "    .dataframe tbody tr th:only-of-type {\n",
       "        vertical-align: middle;\n",
       "    }\n",
       "\n",
       "    .dataframe tbody tr th {\n",
       "        vertical-align: top;\n",
       "    }\n",
       "\n",
       "    .dataframe thead th {\n",
       "        text-align: right;\n",
       "    }\n",
       "</style>\n",
       "<table border=\"1\" class=\"dataframe\">\n",
       "  <thead>\n",
       "    <tr style=\"text-align: right;\">\n",
       "      <th></th>\n",
       "      <th>bugs</th>\n",
       "    </tr>\n",
       "  </thead>\n",
       "  <tbody>\n",
       "    <tr>\n",
       "      <th>count</th>\n",
       "      <td>319.000000</td>\n",
       "    </tr>\n",
       "    <tr>\n",
       "      <th>mean</th>\n",
       "      <td>2.996865</td>\n",
       "    </tr>\n",
       "    <tr>\n",
       "      <th>std</th>\n",
       "      <td>1.855636</td>\n",
       "    </tr>\n",
       "    <tr>\n",
       "      <th>min</th>\n",
       "      <td>0.000000</td>\n",
       "    </tr>\n",
       "    <tr>\n",
       "      <th>25%</th>\n",
       "      <td>2.000000</td>\n",
       "    </tr>\n",
       "    <tr>\n",
       "      <th>50%</th>\n",
       "      <td>3.000000</td>\n",
       "    </tr>\n",
       "    <tr>\n",
       "      <th>75%</th>\n",
       "      <td>4.000000</td>\n",
       "    </tr>\n",
       "    <tr>\n",
       "      <th>max</th>\n",
       "      <td>12.000000</td>\n",
       "    </tr>\n",
       "  </tbody>\n",
       "</table>\n",
       "</div>"
      ],
      "text/plain": [
       "             bugs\n",
       "count  319.000000\n",
       "mean     2.996865\n",
       "std      1.855636\n",
       "min      0.000000\n",
       "25%      2.000000\n",
       "50%      3.000000\n",
       "75%      4.000000\n",
       "max     12.000000"
      ]
     },
     "execution_count": 6,
     "metadata": {},
     "output_type": "execute_result"
    }
   ],
   "source": [
    "data.describe()"
   ]
  },
  {
   "cell_type": "markdown",
   "metadata": {},
   "source": [
    "У нас один вещественный признак (целевой), остальные - категориальные. Среднее значение количества ошибок - 3. Между верхним квартилем и максимальным значением есть довольно высокая разница, видимо могут присуствовать какие-то выбросы."
   ]
  },
  {
   "cell_type": "markdown",
   "metadata": {},
   "source": [
    "### Распределение целевого признака"
   ]
  },
  {
   "cell_type": "code",
   "execution_count": 7,
   "metadata": {},
   "outputs": [
    {
     "data": {
      "image/png": "[encoded data removed]",
      "text/plain": [
       "<Figure size 432x288 with 1 Axes>"
      ]
     },
     "metadata": {
      "needs_background": "light"
     },
     "output_type": "display_data"
    }
   ],
   "source": [
    "plt.hist(data.bugs);"
   ]
  },
  {
   "cell_type": "markdown",
   "metadata": {},
   "source": [
    "#### Проверим на нормальность и скошенность"
   ]
  },
  {
   "cell_type": "code",
   "execution_count": 8,
   "metadata": {},
   "outputs": [
    {
     "name": "stdout",
     "output_type": "stream",
     "text": [
      "Нормальность: 4.0542457095442116e-27\n"
     ]
    }
   ],
   "source": [
    "normaltest_result = normaltest(data.bugs)\n",
    "print(f\"Нормальность: {normaltest_result.pvalue}\") "
   ]
  },
  {
   "cell_type": "code",
   "execution_count": 9,
   "metadata": {},
   "outputs": [
    {
     "name": "stdout",
     "output_type": "stream",
     "text": [
      "Скошенность: 1.6696652404210477\n"
     ]
    }
   ],
   "source": [
    "print(f\"Скошенность: {skew(data.bugs)}\")"
   ]
  },
  {
   "cell_type": "markdown",
   "metadata": {},
   "source": [
    "#### Пропуски"
   ]
  },
  {
   "cell_type": "code",
   "execution_count": 10,
   "metadata": {},
   "outputs": [],
   "source": [
    "null_content = data.isnull().sum()"
   ]
  },
  {
   "cell_type": "code",
   "execution_count": 11,
   "metadata": {},
   "outputs": [
    {
     "data": {
      "text/plain": [
       "repository_name    0\n",
       "commit_hash        0\n",
       "commit_date        0\n",
       "commit_author      0\n",
       "commit_message     0\n",
       "bugs               0\n",
       "dtype: int64"
      ]
     },
     "execution_count": 11,
     "metadata": {},
     "output_type": "execute_result"
    }
   ],
   "source": [
    "null_content"
   ]
  },
  {
   "cell_type": "markdown",
   "metadata": {},
   "source": [
    "В нашем датасете нет пропусков, значит можно идти дальше"
   ]
  },
  {
   "cell_type": "markdown",
   "metadata": {},
   "source": [
    "### 3. Первичный визуальный анализ данных"
   ]
  },
  {
   "cell_type": "markdown",
   "metadata": {},
   "source": [
    "Оценим влияние наших признаков на количество ошибок. Для этого найдём медиану целевого признака для каждого признака."
   ]
  },
  {
   "cell_type": "code",
   "execution_count": 12,
   "metadata": {},
   "outputs": [
    {
     "data": {
      "image/png": "[encoded data removed]",
      "text/plain": [
       "<Figure size 432x288 with 1 Axes>"
      ]
     },
     "metadata": {
      "needs_background": "light"
     },
     "output_type": "display_data"
    }
   ],
   "source": [
    "median_targer_for_repository_name = data.groupby(['repository_name']).bugs.median()\n",
    "plt.xticks(rotation=90)\n",
    "plt.bar(height = median_targer_for_repository_name, x = median_targer_for_repository_name.index);"
   ]
  },
  {
   "cell_type": "markdown",
   "metadata": {},
   "source": [
    "В mlm случаются чаще ошибки, но не сказать, чтобы уж прям шибко. В этой категории мы не можем судить о какой-то явной корреляции с количеством ошибок в зависимости от имени репозитория, попробуем посмотреть на другие признаки "
   ]
  },
  {
   "cell_type": "code",
   "execution_count": 13,
   "metadata": {},
   "outputs": [
    {
     "data": {
      "image/png": "[encoded data removed]",
      "text/plain": [
       "<Figure size 1080x216 with 1 Axes>"
      ]
     },
     "metadata": {
      "needs_background": "light"
     },
     "output_type": "display_data"
    }
   ],
   "source": [
    "plt.figure(figsize=(15,3))\n",
    "plt.xticks(rotation=90)\n",
    "sns.countplot(data=data, x='repository_name', \n",
    "              order=data.repository_name.value_counts().index);"
   ]
  },
  {
   "cell_type": "markdown",
   "metadata": {},
   "source": [
    "Видно, что чаще всего корректируются репозитории с именем `conductor` и `sensor`. Кстати, исходя из двух оценок выше, можно сделать вывод, что правки в репозиторие `sensor` являются более эффективными, чем, в репозитории `conductor`."
   ]
  },
  {
   "cell_type": "markdown",
   "metadata": {},
   "source": [
    "Построим диаграмму по количеству правок в зависимости от авторов коммита"
   ]
  },
  {
   "cell_type": "code",
   "execution_count": 14,
   "metadata": {
    "scrolled": true
   },
   "outputs": [
    {
     "data": {
      "image/png": "[encoded data removed]",
      "text/plain": [
       "<Figure size 1080x216 with 1 Axes>"
      ]
     },
     "metadata": {
      "needs_background": "light"
     },
     "output_type": "display_data"
    }
   ],
   "source": [
    "plt.figure(figsize=(15,3))\n",
    "plt.xticks(rotation=90)\n",
    "sns.countplot(data=data, x='commit_author', \n",
    "              order=data.commit_author.value_counts().index);"
   ]
  },
  {
   "cell_type": "markdown",
   "metadata": {},
   "source": [
    "Виктор чаще всего вносил правки."
   ]
  },
  {
   "cell_type": "markdown",
   "metadata": {},
   "source": [
    "Создадим массив авторов репозиториев, которые осуществляли больше 20 правок и проверим насколько эффективными были эти правки в зависимости от автора "
   ]
  },
  {
   "cell_type": "code",
   "execution_count": 15,
   "metadata": {},
   "outputs": [
    {
     "data": {
      "image/png": "[encoded data removed]",
      "text/plain": [
       "<Figure size 432x288 with 1 Axes>"
      ]
     },
     "metadata": {
      "needs_background": "light"
     },
     "output_type": "display_data"
    }
   ],
   "source": [
    "d = ['Victor', 'Mallory', 'Wendy', 'Dabe']\n",
    "median_targer_for_commit_author = data[data['commit_author'].isin(d)].groupby(['commit_author']).bugs.mean()\n",
    "plt.xticks(rotation=90)\n",
    "plt.bar(height = median_targer_for_commit_author, x = median_targer_for_commit_author.index);"
   ]
  },
  {
   "cell_type": "markdown",
   "metadata": {},
   "source": [
    "На самом деле, мы не можем делать какие-то конкретные выводы по этой метрике, так как, с ростом количества правок растёт и среднее количество багов, а Dabe и Wendy делали меньше правок, чем остальные двое."
   ]
  },
  {
   "cell_type": "markdown",
   "metadata": {},
   "source": [
    "### 4. Инсайты и закономерности"
   ]
  },
  {
   "cell_type": "markdown",
   "metadata": {},
   "source": [
    "Обобщим наши наблюдения:\n"
   ]
  },
  {
   "cell_type": "markdown",
   "metadata": {},
   "source": [
    "- чаще всего вносят правки в репозитории с именами `Conductor` и `Sensor`\n",
    "- в `mlm` чаще всего возникают ошибки\n",
    "- правки в репозитории `sensor` являются заметно более эффективными по сравнению с остальными\n",
    "- можно выделить 4-ёх сотрудников, которые чаще всего вносят правки: Victor, Mallory, Dabe, Wendy\n",
    "- с количеством внесённых правок одним сотрудником растёт и его общее количество ошибок"
   ]
  },
  {
   "cell_type": "markdown",
   "metadata": {},
   "source": [
    "### 5. Выбор метрики"
   ]
  },
  {
   "cell_type": "markdown",
   "metadata": {},
   "source": [
    "Для оценки качества модели будет использовать F1 score, как что-то среднее гармоническое между precision и recall.\n",
    "Хотя ещё попробую взять метрику accuracy."
   ]
  },
  {
   "cell_type": "code",
   "execution_count": 16,
   "metadata": {},
   "outputs": [],
   "source": [
    "from sklearn.metrics import f1_score"
   ]
  },
  {
   "cell_type": "markdown",
   "metadata": {},
   "source": [
    "### 6. Выбор модели"
   ]
  },
  {
   "cell_type": "markdown",
   "metadata": {},
   "source": [
    "У нас не так много данных, и, думаю, задача больше стоит предсказать примерное количество ошибок, поэтому решил целевую переменную разделить на классы: если количество ошибок в коммите <= 4 -> 0; <= 8 -> 1; иначе - 2\n",
    "\n",
    "Попробую использовать модель RandomForestClassifier\n"
   ]
  },
  {
   "cell_type": "markdown",
   "metadata": {},
   "source": [
    "### 7. Предобработка данных"
   ]
  },
  {
   "cell_type": "code",
   "execution_count": 17,
   "metadata": {},
   "outputs": [],
   "source": [
    "from sklearn.feature_extraction.text import CountVectorizer, TfidfVectorizer\n",
    "from sklearn.model_selection import train_test_split"
   ]
  },
  {
   "cell_type": "markdown",
   "metadata": {},
   "source": [
    "Сортируем наши записи по дате"
   ]
  },
  {
   "cell_type": "code",
   "execution_count": 18,
   "metadata": {},
   "outputs": [],
   "source": [
    "data.index = data.commit_date\n",
    "data.sort_index(inplace=True)"
   ]
  },
  {
   "cell_type": "code",
   "execution_count": 19,
   "metadata": {},
   "outputs": [],
   "source": [
    "data.index = pd.to_datetime(data.commit_date)\n"
   ]
  },
  {
   "cell_type": "markdown",
   "metadata": {},
   "source": [
    "Создаём несколько признаков: недели, часы, месяцы. Удаляем признак дата. "
   ]
  },
  {
   "cell_type": "code",
   "execution_count": 20,
   "metadata": {},
   "outputs": [],
   "source": [
    "data['weekday'] = data.index.weekday\n",
    "data['hours'] = data.index.hour\n",
    "data['month'] = data.index.month"
   ]
  },
  {
   "cell_type": "code",
   "execution_count": 21,
   "metadata": {},
   "outputs": [],
   "source": [
    "data.index = data.commit_hash\n",
    "data = data.drop(columns=['commit_hash'])"
   ]
  },
  {
   "cell_type": "code",
   "execution_count": 22,
   "metadata": {},
   "outputs": [],
   "source": [
    "data.commit_date = pd.to_datetime(data.commit_date)"
   ]
  },
  {
   "cell_type": "markdown",
   "metadata": {},
   "source": [
    "Кодируем категориальные признаки `repository_name` и `commit_author` с помощью техники One-Hot-Encoding"
   ]
  },
  {
   "cell_type": "code",
   "execution_count": 23,
   "metadata": {},
   "outputs": [],
   "source": [
    "data = pd.concat([\n",
    "    data,\n",
    "    pd.get_dummies(data['repository_name'], prefix = 'repository'),\n",
    "    pd.get_dummies(data['commit_author'], prefix = 'author')\n",
    "], axis = 1)\n",
    "data.drop(\n",
    "    [\n",
    "        'repository_name',\n",
    "        'commit_author',\n",
    "        'commit_date'\n",
    "    ],\n",
    "    axis = 1,\n",
    "    inplace = True\n",
    ")"
   ]
  },
  {
   "cell_type": "markdown",
   "metadata": {},
   "source": [
    "Далее, я обработал признак `commit_message`(лемматизировал, токкенизировал), но работать с ним пока не стал."
   ]
  },
  {
   "cell_type": "code",
   "execution_count": null,
   "metadata": {},
   "outputs": [],
   "source": [
    "data.commit_message = data.commit_message.str.lower()\n",
    "data.commit_message = data.commit_message.str.replace('[^A-Za-z0-9]+', ' ', regex=True)"
   ]
  },
  {
   "cell_type": "markdown",
   "metadata": {},
   "source": [
    "Импортируем библаотеку nltk, скачиваем стоп слова"
   ]
  },
  {
   "cell_type": "code",
   "execution_count": 25,
   "metadata": {},
   "outputs": [
    {
     "name": "stderr",
     "output_type": "stream",
     "text": [
      "[nltk_data] Downloading package stopwords to\n",
      "[nltk_data]     /home/gennadiy/nltk_data...\n",
      "[nltk_data]   Package stopwords is already up-to-date!\n",
      "[nltk_data] Downloading package wordnet to /home/gennadiy/nltk_data...\n",
      "[nltk_data]   Package wordnet is already up-to-date!\n",
      "[nltk_data] Downloading package punkt to /home/gennadiy/nltk_data...\n",
      "[nltk_data]   Package punkt is already up-to-date!\n"
     ]
    },
    {
     "data": {
      "text/plain": [
       "True"
      ]
     },
     "execution_count": 25,
     "metadata": {},
     "output_type": "execute_result"
    }
   ],
   "source": [
    "import nltk\n",
    "from nltk.corpus import stopwords\n",
    "nltk.download('stopwords')\n",
    "nltk.download('wordnet')\n",
    "nltk.download('punkt')"
   ]
  },
  {
   "cell_type": "code",
   "execution_count": 26,
   "metadata": {},
   "outputs": [],
   "source": [
    "stopwords = stopwords.words('english')"
   ]
  },
  {
   "cell_type": "code",
   "execution_count": 27,
   "metadata": {},
   "outputs": [],
   "source": [
    "def stop_words(text):\n",
    "    return ' '.join(word for word in text.split() if word not in stopwords)"
   ]
  },
  {
   "cell_type": "markdown",
   "metadata": {},
   "source": [
    "Удаляем стоп слова"
   ]
  },
  {
   "cell_type": "code",
   "execution_count": 28,
   "metadata": {},
   "outputs": [],
   "source": [
    "data['commit_message'] = data.commit_message.apply(stop_words)"
   ]
  },
  {
   "cell_type": "markdown",
   "metadata": {},
   "source": [
    "Проводим токкенизацию и лемматизацию текста"
   ]
  },
  {
   "cell_type": "code",
   "execution_count": 29,
   "metadata": {},
   "outputs": [],
   "source": [
    "w_tokenizer = nltk.tokenize.WhitespaceTokenizer()\n",
    "lemmatizer = nltk.stem.WordNetLemmatizer()\n",
    "def lem_text(text):\n",
    "    return [lemmatizer.lemmatize(w) for w in w_tokenizer.tokenize(text)]\n",
    "data['lemmatized_tokens'] = data['commit_message'].apply(lem_text)"
   ]
  },
  {
   "cell_type": "code",
   "execution_count": 30,
   "metadata": {},
   "outputs": [],
   "source": [
    "data.drop(columns='commit_message', axis=1, inplace=True)"
   ]
  },
  {
   "cell_type": "code",
   "execution_count": 31,
   "metadata": {},
   "outputs": [],
   "source": [
    "data['len_commit'] = data.lemmatized_tokens.apply(lambda x: len(x))"
   ]
  },
  {
   "cell_type": "code",
   "execution_count": 32,
   "metadata": {
    "scrolled": true
   },
   "outputs": [
    {
     "data": {
      "image/png": "[encoded data removed]",
      "text/plain": [
       "<Figure size 432x288 with 1 Axes>"
      ]
     },
     "metadata": {
      "needs_background": "light"
     },
     "output_type": "display_data"
    }
   ],
   "source": [
    "sns.countplot(x='bugs', hue='len_commit', data=data);"
   ]
  },
  {
   "cell_type": "markdown",
   "metadata": {},
   "source": [
    "Категоризируем признак `bugs`"
   ]
  },
  {
   "cell_type": "code",
   "execution_count": 33,
   "metadata": {},
   "outputs": [],
   "source": [
    "def cat_bugs(num):\n",
    "    if num <= 4:\n",
    "        return 0\n",
    "    elif num <= 8:\n",
    "        return 1\n",
    "    return 2"
   ]
  },
  {
   "cell_type": "code",
   "execution_count": 34,
   "metadata": {},
   "outputs": [],
   "source": [
    "data['bugs'] = data.bugs.apply(cat_bugs)"
   ]
  },
  {
   "cell_type": "code",
   "execution_count": 35,
   "metadata": {},
   "outputs": [
    {
     "data": {
      "text/html": [
       "<div>\n",
       "<style scoped>\n",
       "    .dataframe tbody tr th:only-of-type {\n",
       "        vertical-align: middle;\n",
       "    }\n",
       "\n",
       "    .dataframe tbody tr th {\n",
       "        vertical-align: top;\n",
       "    }\n",
       "\n",
       "    .dataframe thead th {\n",
       "        text-align: right;\n",
       "    }\n",
       "</style>\n",
       "<table border=\"1\" class=\"dataframe\">\n",
       "  <thead>\n",
       "    <tr style=\"text-align: right;\">\n",
       "      <th></th>\n",
       "      <th>bugs</th>\n",
       "      <th>weekday</th>\n",
       "      <th>hours</th>\n",
       "      <th>month</th>\n",
       "      <th>repository_agent</th>\n",
       "      <th>repository_conductor</th>\n",
       "      <th>repository_dockers</th>\n",
       "      <th>repository_mlm</th>\n",
       "      <th>repository_sensor</th>\n",
       "      <th>repository_standard</th>\n",
       "      <th>...</th>\n",
       "      <th>author_Carol</th>\n",
       "      <th>author_Dabe</th>\n",
       "      <th>author_Eve</th>\n",
       "      <th>author_Mallory</th>\n",
       "      <th>author_Peggy</th>\n",
       "      <th>author_Trudy</th>\n",
       "      <th>author_Victor</th>\n",
       "      <th>author_Wendy</th>\n",
       "      <th>lemmatized_tokens</th>\n",
       "      <th>len_commit</th>\n",
       "    </tr>\n",
       "    <tr>\n",
       "      <th>commit_hash</th>\n",
       "      <th></th>\n",
       "      <th></th>\n",
       "      <th></th>\n",
       "      <th></th>\n",
       "      <th></th>\n",
       "      <th></th>\n",
       "      <th></th>\n",
       "      <th></th>\n",
       "      <th></th>\n",
       "      <th></th>\n",
       "      <th></th>\n",
       "      <th></th>\n",
       "      <th></th>\n",
       "      <th></th>\n",
       "      <th></th>\n",
       "      <th></th>\n",
       "      <th></th>\n",
       "      <th></th>\n",
       "      <th></th>\n",
       "      <th></th>\n",
       "      <th></th>\n",
       "    </tr>\n",
       "  </thead>\n",
       "  <tbody>\n",
       "    <tr>\n",
       "      <th>79db41fb</th>\n",
       "      <td>0</td>\n",
       "      <td>6</td>\n",
       "      <td>14</td>\n",
       "      <td>3</td>\n",
       "      <td>0</td>\n",
       "      <td>0</td>\n",
       "      <td>0</td>\n",
       "      <td>1</td>\n",
       "      <td>0</td>\n",
       "      <td>0</td>\n",
       "      <td>...</td>\n",
       "      <td>0</td>\n",
       "      <td>0</td>\n",
       "      <td>0</td>\n",
       "      <td>0</td>\n",
       "      <td>0</td>\n",
       "      <td>0</td>\n",
       "      <td>1</td>\n",
       "      <td>0</td>\n",
       "      <td>[initial, commit]</td>\n",
       "      <td>2</td>\n",
       "    </tr>\n",
       "    <tr>\n",
       "      <th>bfa1152f</th>\n",
       "      <td>1</td>\n",
       "      <td>6</td>\n",
       "      <td>15</td>\n",
       "      <td>3</td>\n",
       "      <td>0</td>\n",
       "      <td>0</td>\n",
       "      <td>0</td>\n",
       "      <td>1</td>\n",
       "      <td>0</td>\n",
       "      <td>0</td>\n",
       "      <td>...</td>\n",
       "      <td>0</td>\n",
       "      <td>0</td>\n",
       "      <td>0</td>\n",
       "      <td>0</td>\n",
       "      <td>0</td>\n",
       "      <td>0</td>\n",
       "      <td>1</td>\n",
       "      <td>0</td>\n",
       "      <td>[jsonmaster, function, separator]</td>\n",
       "      <td>3</td>\n",
       "    </tr>\n",
       "    <tr>\n",
       "      <th>29ba5151</th>\n",
       "      <td>2</td>\n",
       "      <td>6</td>\n",
       "      <td>17</td>\n",
       "      <td>3</td>\n",
       "      <td>0</td>\n",
       "      <td>0</td>\n",
       "      <td>0</td>\n",
       "      <td>1</td>\n",
       "      <td>0</td>\n",
       "      <td>0</td>\n",
       "      <td>...</td>\n",
       "      <td>0</td>\n",
       "      <td>0</td>\n",
       "      <td>0</td>\n",
       "      <td>0</td>\n",
       "      <td>0</td>\n",
       "      <td>0</td>\n",
       "      <td>1</td>\n",
       "      <td>0</td>\n",
       "      <td>[small, fix, model, py, make, work]</td>\n",
       "      <td>6</td>\n",
       "    </tr>\n",
       "    <tr>\n",
       "      <th>a8b55539</th>\n",
       "      <td>0</td>\n",
       "      <td>6</td>\n",
       "      <td>17</td>\n",
       "      <td>3</td>\n",
       "      <td>0</td>\n",
       "      <td>0</td>\n",
       "      <td>0</td>\n",
       "      <td>1</td>\n",
       "      <td>0</td>\n",
       "      <td>0</td>\n",
       "      <td>...</td>\n",
       "      <td>0</td>\n",
       "      <td>0</td>\n",
       "      <td>0</td>\n",
       "      <td>0</td>\n",
       "      <td>0</td>\n",
       "      <td>0</td>\n",
       "      <td>1</td>\n",
       "      <td>0</td>\n",
       "      <td>[added, gitignore]</td>\n",
       "      <td>2</td>\n",
       "    </tr>\n",
       "    <tr>\n",
       "      <th>bb54e4e6</th>\n",
       "      <td>2</td>\n",
       "      <td>6</td>\n",
       "      <td>17</td>\n",
       "      <td>3</td>\n",
       "      <td>0</td>\n",
       "      <td>0</td>\n",
       "      <td>0</td>\n",
       "      <td>1</td>\n",
       "      <td>0</td>\n",
       "      <td>0</td>\n",
       "      <td>...</td>\n",
       "      <td>0</td>\n",
       "      <td>0</td>\n",
       "      <td>0</td>\n",
       "      <td>0</td>\n",
       "      <td>0</td>\n",
       "      <td>0</td>\n",
       "      <td>1</td>\n",
       "      <td>0</td>\n",
       "      <td>[small, fix, main, py, make, work]</td>\n",
       "      <td>6</td>\n",
       "    </tr>\n",
       "  </tbody>\n",
       "</table>\n",
       "<p>5 rows × 22 columns</p>\n",
       "</div>"
      ],
      "text/plain": [
       "             bugs  weekday  hours  month  repository_agent  \\\n",
       "commit_hash                                                  \n",
       "79db41fb        0        6     14      3                 0   \n",
       "bfa1152f        1        6     15      3                 0   \n",
       "29ba5151        2        6     17      3                 0   \n",
       "a8b55539        0        6     17      3                 0   \n",
       "bb54e4e6        2        6     17      3                 0   \n",
       "\n",
       "             repository_conductor  repository_dockers  repository_mlm  \\\n",
       "commit_hash                                                             \n",
       "79db41fb                        0                   0               1   \n",
       "bfa1152f                        0                   0               1   \n",
       "29ba5151                        0                   0               1   \n",
       "a8b55539                        0                   0               1   \n",
       "bb54e4e6                        0                   0               1   \n",
       "\n",
       "             repository_sensor  repository_standard  ...  author_Carol  \\\n",
       "commit_hash                                          ...                 \n",
       "79db41fb                     0                    0  ...             0   \n",
       "bfa1152f                     0                    0  ...             0   \n",
       "29ba5151                     0                    0  ...             0   \n",
       "a8b55539                     0                    0  ...             0   \n",
       "bb54e4e6                     0                    0  ...             0   \n",
       "\n",
       "             author_Dabe  author_Eve  author_Mallory  author_Peggy  \\\n",
       "commit_hash                                                          \n",
       "79db41fb               0           0               0             0   \n",
       "bfa1152f               0           0               0             0   \n",
       "29ba5151               0           0               0             0   \n",
       "a8b55539               0           0               0             0   \n",
       "bb54e4e6               0           0               0             0   \n",
       "\n",
       "             author_Trudy  author_Victor  author_Wendy  \\\n",
       "commit_hash                                              \n",
       "79db41fb                0              1             0   \n",
       "bfa1152f                0              1             0   \n",
       "29ba5151                0              1             0   \n",
       "a8b55539                0              1             0   \n",
       "bb54e4e6                0              1             0   \n",
       "\n",
       "                               lemmatized_tokens  len_commit  \n",
       "commit_hash                                                   \n",
       "79db41fb                       [initial, commit]           2  \n",
       "bfa1152f       [jsonmaster, function, separator]           3  \n",
       "29ba5151     [small, fix, model, py, make, work]           6  \n",
       "a8b55539                      [added, gitignore]           2  \n",
       "bb54e4e6      [small, fix, main, py, make, work]           6  \n",
       "\n",
       "[5 rows x 22 columns]"
      ]
     },
     "execution_count": 35,
     "metadata": {},
     "output_type": "execute_result"
    }
   ],
   "source": [
    "data.head()"
   ]
  },
  {
   "cell_type": "markdown",
   "metadata": {},
   "source": [
    "### 8. Кросс-валидация и настройка гиперпараметров модели"
   ]
  },
  {
   "cell_type": "code",
   "execution_count": 36,
   "metadata": {},
   "outputs": [],
   "source": [
    "X = data.drop(columns=['bugs', 'lemmatized_tokens'], axis=1)"
   ]
  },
  {
   "cell_type": "code",
   "execution_count": 37,
   "metadata": {},
   "outputs": [],
   "source": [
    "y = data.bugs"
   ]
  },
  {
   "cell_type": "code",
   "execution_count": 38,
   "metadata": {},
   "outputs": [],
   "source": [
    "X_train, X_holdout, y_train,  y_holdout = train_test_split(X, y, test_size=0.3, random_state=17)"
   ]
  },
  {
   "cell_type": "code",
   "execution_count": 39,
   "metadata": {},
   "outputs": [
    {
     "data": {
      "text/plain": [
       "((223, 20), (96, 20), (223,), (96,))"
      ]
     },
     "execution_count": 39,
     "metadata": {},
     "output_type": "execute_result"
    }
   ],
   "source": [
    "X_train.shape, X_holdout.shape, y_train.shape,  y_holdout.shape"
   ]
  },
  {
   "cell_type": "code",
   "execution_count": 51,
   "metadata": {},
   "outputs": [],
   "source": [
    "from sklearn.ensemble import RandomForestClassifier\n",
    "from sklearn.tree import DecisionTreeClassifier\n",
    "from sklearn.model_selection import GridSearchCV, validation_curve, learning_curve, StratifiedKFold"
   ]
  },
  {
   "cell_type": "code",
   "execution_count": 53,
   "metadata": {},
   "outputs": [
    {
     "data": {
      "text/plain": [
       "GridSearchCV(cv=StratifiedKFold(n_splits=3, random_state=17, shuffle=True),\n",
       "       error_score='raise-deprecating',\n",
       "       estimator=RandomForestClassifier(bootstrap=True, class_weight=None, criterion='gini',\n",
       "            max_depth=None, max_features='auto', max_leaf_nodes=None,\n",
       "            min_impurity_decrease=0.0, min_impurity_split=None,\n",
       "            min_samples_leaf=1, min_samples_split=2,\n",
       "            min_weight_fraction_leaf=0.0, n_estimators='warn', n_jobs=None,\n",
       "            oob_score=True, random_state=None, verbose=0, warm_start=False),\n",
       "       fit_params=None, iid='warn', n_jobs=None,\n",
       "       param_grid={'n_estimators': range(10, 51, 10), 'max_depth': range(1, 13, 2), 'min_samples_leaf': range(1, 8), 'min_samples_split': range(2, 10, 2)},\n",
       "       pre_dispatch='2*n_jobs', refit=True, return_train_score='warn',\n",
       "       scoring=None, verbose=0)"
      ]
     },
     "execution_count": 53,
     "metadata": {},
     "output_type": "execute_result"
    }
   ],
   "source": [
    "rfc = RandomForestClassifier(oob_score=True)\n",
    "skf = StratifiedKFold(n_splits=3, shuffle=True, random_state=17)\n",
    "\n",
    "parametrs = { 'n_estimators': range (10, 51, 10),\n",
    "              'max_depth': range (1,13, 2),\n",
    "              'min_samples_leaf': range (1,8),\n",
    "              'min_samples_split': range (2,10,2) }\n",
    "\n",
    "grid = GridSearchCV(rfc, parametrs, cv=skf)\n",
    "grid.fit(X_train, y_train)"
   ]
  },
  {
   "cell_type": "code",
   "execution_count": 54,
   "metadata": {
    "scrolled": true
   },
   "outputs": [
    {
     "data": {
      "text/plain": [
       "({'max_depth': 5,\n",
       "  'min_samples_leaf': 1,\n",
       "  'min_samples_split': 2,\n",
       "  'n_estimators': 50},\n",
       " 0.8834080717488789)"
      ]
     },
     "execution_count": 54,
     "metadata": {},
     "output_type": "execute_result"
    }
   ],
   "source": [
    "grid.best_params_, grid.best_score_"
   ]
  },
  {
   "cell_type": "markdown",
   "metadata": {},
   "source": [
    "Получаем accuracy = 88%, что считаю очень даже неплохо."
   ]
  },
  {
   "cell_type": "markdown",
   "metadata": {},
   "source": [
    "Построим feature_importance"
   ]
  },
  {
   "cell_type": "code",
   "execution_count": 55,
   "metadata": {},
   "outputs": [
    {
     "data": {
      "text/html": [
       "<div>\n",
       "<style scoped>\n",
       "    .dataframe tbody tr th:only-of-type {\n",
       "        vertical-align: middle;\n",
       "    }\n",
       "\n",
       "    .dataframe tbody tr th {\n",
       "        vertical-align: top;\n",
       "    }\n",
       "\n",
       "    .dataframe thead th {\n",
       "        text-align: right;\n",
       "    }\n",
       "</style>\n",
       "<table border=\"1\" class=\"dataframe\">\n",
       "  <thead>\n",
       "    <tr style=\"text-align: right;\">\n",
       "      <th></th>\n",
       "      <th>features</th>\n",
       "      <th>value</th>\n",
       "    </tr>\n",
       "  </thead>\n",
       "  <tbody>\n",
       "    <tr>\n",
       "      <th>19</th>\n",
       "      <td>len_commit</td>\n",
       "      <td>0.269699</td>\n",
       "    </tr>\n",
       "    <tr>\n",
       "      <th>1</th>\n",
       "      <td>hours</td>\n",
       "      <td>0.154278</td>\n",
       "    </tr>\n",
       "    <tr>\n",
       "      <th>6</th>\n",
       "      <td>repository_mlm</td>\n",
       "      <td>0.130900</td>\n",
       "    </tr>\n",
       "    <tr>\n",
       "      <th>0</th>\n",
       "      <td>weekday</td>\n",
       "      <td>0.113875</td>\n",
       "    </tr>\n",
       "    <tr>\n",
       "      <th>2</th>\n",
       "      <td>month</td>\n",
       "      <td>0.069401</td>\n",
       "    </tr>\n",
       "    <tr>\n",
       "      <th>7</th>\n",
       "      <td>repository_sensor</td>\n",
       "      <td>0.067311</td>\n",
       "    </tr>\n",
       "    <tr>\n",
       "      <th>17</th>\n",
       "      <td>author_Victor</td>\n",
       "      <td>0.047444</td>\n",
       "    </tr>\n",
       "    <tr>\n",
       "      <th>13</th>\n",
       "      <td>author_Eve</td>\n",
       "      <td>0.040373</td>\n",
       "    </tr>\n",
       "    <tr>\n",
       "      <th>4</th>\n",
       "      <td>repository_conductor</td>\n",
       "      <td>0.027292</td>\n",
       "    </tr>\n",
       "    <tr>\n",
       "      <th>14</th>\n",
       "      <td>author_Mallory</td>\n",
       "      <td>0.018681</td>\n",
       "    </tr>\n",
       "    <tr>\n",
       "      <th>3</th>\n",
       "      <td>repository_agent</td>\n",
       "      <td>0.017611</td>\n",
       "    </tr>\n",
       "    <tr>\n",
       "      <th>18</th>\n",
       "      <td>author_Wendy</td>\n",
       "      <td>0.012623</td>\n",
       "    </tr>\n",
       "    <tr>\n",
       "      <th>12</th>\n",
       "      <td>author_Dabe</td>\n",
       "      <td>0.010333</td>\n",
       "    </tr>\n",
       "    <tr>\n",
       "      <th>5</th>\n",
       "      <td>repository_dockers</td>\n",
       "      <td>0.007383</td>\n",
       "    </tr>\n",
       "    <tr>\n",
       "      <th>8</th>\n",
       "      <td>repository_standard</td>\n",
       "      <td>0.006279</td>\n",
       "    </tr>\n",
       "    <tr>\n",
       "      <th>15</th>\n",
       "      <td>author_Peggy</td>\n",
       "      <td>0.004033</td>\n",
       "    </tr>\n",
       "    <tr>\n",
       "      <th>16</th>\n",
       "      <td>author_Trudy</td>\n",
       "      <td>0.001374</td>\n",
       "    </tr>\n",
       "    <tr>\n",
       "      <th>11</th>\n",
       "      <td>author_Carol</td>\n",
       "      <td>0.001110</td>\n",
       "    </tr>\n",
       "    <tr>\n",
       "      <th>9</th>\n",
       "      <td>author_Alice</td>\n",
       "      <td>0.000001</td>\n",
       "    </tr>\n",
       "    <tr>\n",
       "      <th>10</th>\n",
       "      <td>author_Bob</td>\n",
       "      <td>0.000000</td>\n",
       "    </tr>\n",
       "  </tbody>\n",
       "</table>\n",
       "</div>"
      ],
      "text/plain": [
       "                features     value\n",
       "19            len_commit  0.269699\n",
       "1                  hours  0.154278\n",
       "6         repository_mlm  0.130900\n",
       "0                weekday  0.113875\n",
       "2                  month  0.069401\n",
       "7      repository_sensor  0.067311\n",
       "17         author_Victor  0.047444\n",
       "13            author_Eve  0.040373\n",
       "4   repository_conductor  0.027292\n",
       "14        author_Mallory  0.018681\n",
       "3       repository_agent  0.017611\n",
       "18          author_Wendy  0.012623\n",
       "12           author_Dabe  0.010333\n",
       "5     repository_dockers  0.007383\n",
       "8    repository_standard  0.006279\n",
       "15          author_Peggy  0.004033\n",
       "16          author_Trudy  0.001374\n",
       "11          author_Carol  0.001110\n",
       "9           author_Alice  0.000001\n",
       "10            author_Bob  0.000000"
      ]
     },
     "execution_count": 55,
     "metadata": {},
     "output_type": "execute_result"
    }
   ],
   "source": [
    "feat_importance = pd.DataFrame(X_train.columns, columns = ['features'])\n",
    "feat_importance['value'] = grid.best_estimator_.feature_importances_\n",
    "feat_importance.sort_values('value')[::-1]"
   ]
  },
  {
   "cell_type": "markdown",
   "metadata": {},
   "source": [
    "Удивительно, но самым важным признаком оказалась длина коммита, немного ожидаемо - часы, то бишь, возможно, это как-то связано с распорядком дня."
   ]
  },
  {
   "cell_type": "markdown",
   "metadata": {},
   "source": [
    "### 9. Построение кривых валидации и обучения "
   ]
  },
  {
   "cell_type": "code",
   "execution_count": 56,
   "metadata": {},
   "outputs": [],
   "source": [
    "def plot_with_err(x, data, **kwargs):\n",
    "    mu, std = data.mean(1), data.std(1)\n",
    "    lines = plt.plot(x, mu, '-', **kwargs)\n",
    "    plt.fill_between(x, mu - std, mu + std, edgecolor='none',\n",
    "                     facecolor=lines[0].get_color(), alpha=0.2)"
   ]
  },
  {
   "cell_type": "markdown",
   "metadata": {},
   "source": [
    "<b>Построим кривые валидации</b>, будем менять сложность модели изменяя параметры."
   ]
  },
  {
   "cell_type": "code",
   "execution_count": 57,
   "metadata": {},
   "outputs": [],
   "source": [
    "f1_scorer = make_scorer(f1_score, average='micro')\n",
    "rf_val = RandomForestClassifier(class_weight='balanced', random_state=17)"
   ]
  },
  {
   "cell_type": "markdown",
   "metadata": {},
   "source": [
    "Посмотрим на зависимость от числа деревьев."
   ]
  },
  {
   "cell_type": "code",
   "execution_count": 58,
   "metadata": {},
   "outputs": [
    {
     "data": {
      "image/png": "[encoded data removed]",
      "text/plain": [
       "<Figure size 432x288 with 1 Axes>"
      ]
     },
     "metadata": {
      "needs_background": "light"
     },
     "output_type": "display_data"
    }
   ],
   "source": [
    "n = np.linspace(50, 500, 5).astype(int)\n",
    "\n",
    "val_train, val_test = validation_curve(rf_val, X_train, y_train,\n",
    "                                       'n_estimators', n, cv=skf,\n",
    "                                       scoring=f1_scorer, n_jobs=-1)\n",
    "\n",
    "plot_with_err(n, val_train, label='training scores')\n",
    "plot_with_err(n, val_test, label='validation scores')\n",
    "plt.xlabel('n_estimators'); plt.ylabel('f1_score')\n",
    "plt.legend();"
   ]
  },
  {
   "cell_type": "markdown",
   "metadata": {},
   "source": [
    "Посмотрим на зависимость от числа объектов в листе."
   ]
  },
  {
   "cell_type": "code",
   "execution_count": 59,
   "metadata": {
    "scrolled": true
   },
   "outputs": [
    {
     "data": {
      "image/png": "[encoded data removed]",
      "text/plain": [
       "<Figure size 432x288 with 1 Axes>"
      ]
     },
     "metadata": {
      "needs_background": "light"
     },
     "output_type": "display_data"
    }
   ],
   "source": [
    "n = np.linspace(1, 20, 10).astype(int)\n",
    "\n",
    "val_train, val_test = validation_curve(rf_val, X_train, y_train,\n",
    "                                       'min_samples_leaf', n, cv=skf,\n",
    "                                       scoring=f1_scorer, n_jobs=-1)\n",
    "\n",
    "plot_with_err(n, val_train, label='training scores')\n",
    "plot_with_err(n, val_test, label='validation scores')\n",
    "plt.xlabel('min_samples_leaf'); plt.ylabel('f1_score')\n",
    "plt.legend();"
   ]
  },
  {
   "cell_type": "markdown",
   "metadata": {},
   "source": [
    "При 7 объектах в листе, мы наблюдаем значительное повышение оценки качеста, но всё же имеем, что при увеличении количества объектов в листе качесво модели падает"
   ]
  },
  {
   "cell_type": "markdown",
   "metadata": {},
   "source": [
    "<b>Построим обучающие кривые. </b>"
   ]
  },
  {
   "cell_type": "code",
   "execution_count": 60,
   "metadata": {},
   "outputs": [],
   "source": [
    "def plot_learning_curve(min_samples_leaf=2, n_estimators=500):\n",
    "    train_sizes = np.linspace(0.05, 1, 100)\n",
    "    \n",
    "    rf_learn = RandomForestClassifier(class_weight='balanced', min_samples_leaf=min_samples_leaf, n_estimators = n_estimators)\n",
    "    N_train, val_train, val_test = learning_curve(rf_learn, X_train, y_train, train_sizes=train_sizes, cv=skf,\n",
    "                                                  scoring=f1_scorer, n_jobs=-1)\n",
    "    plot_with_err(N_train, val_train, label='training scores')\n",
    "    plot_with_err(N_train, val_test, label='validation scores')\n",
    "    plt.xlabel('Training Set Size'); plt.ylabel('f1 score')\n",
    "    plt.legend()"
   ]
  },
  {
   "cell_type": "code",
   "execution_count": 61,
   "metadata": {},
   "outputs": [
    {
     "data": {
      "image/png": "[encoded data removed]",
      "text/plain": [
       "<Figure size 432x288 with 1 Axes>"
      ]
     },
     "metadata": {
      "needs_background": "light"
     },
     "output_type": "display_data"
    }
   ],
   "source": [
    "plot_learning_curve()"
   ]
  },
  {
   "cell_type": "code",
   "execution_count": 63,
   "metadata": {},
   "outputs": [],
   "source": [
    "best_rf = grid.best_estimator_"
   ]
  },
  {
   "cell_type": "code",
   "execution_count": 64,
   "metadata": {},
   "outputs": [],
   "source": [
    "y_predict = best_rf.predict(X_holdout)"
   ]
  },
  {
   "cell_type": "code",
   "execution_count": 66,
   "metadata": {},
   "outputs": [
    {
     "name": "stdout",
     "output_type": "stream",
     "text": [
      "              precision    recall  f1-score   support\n",
      "\n",
      "           0       0.85      1.00      0.92        82\n",
      "           1       0.00      0.00      0.00        13\n",
      "           2       0.00      0.00      0.00         1\n",
      "\n",
      "   micro avg       0.85      0.85      0.85        96\n",
      "   macro avg       0.28      0.33      0.31        96\n",
      "weighted avg       0.73      0.85      0.79        96\n",
      " \n",
      "\n"
     ]
    }
   ],
   "source": [
    "report = classification_report(y_holdout, y_predict)\n",
    "print(report, '\\n')"
   ]
  },
  {
   "cell_type": "markdown",
   "metadata": {},
   "source": [
    "Видно, что модель плохо различает класс ошибок, но это связано скорее с тем, что у нас очень мало данных"
   ]
  },
  {
   "cell_type": "markdown",
   "metadata": {},
   "source": [
    "### Выводы"
   ]
  },
  {
   "cell_type": "markdown",
   "metadata": {},
   "source": [
    "Можно было обработать текст, построить вектора коммитов, тогда модель, возможно, лучше будет определять класс ошибки. Ещё нужно учитывать тот факт, что 300 записей это совсем немного, и нужно больше данных для построения более качественной модели. Ещё, как вариант, можно было решить задачу регрессии."
   ]
  }
 ],
 "metadata": {
  "kernelspec": {
   "display_name": "Python 3",
   "language": "python",
   "name": "python3"
  },
  "language_info": {
   "codemirror_mode": {
    "name": "ipython",
    "version": 3
   },
   "file_extension": ".py",
   "mimetype": "text/x-python",
   "name": "python",
   "nbconvert_exporter": "python",
   "pygments_lexer": "ipython3",
   "version": "3.7.3"
  }
 },
 "nbformat": 4,
 "nbformat_minor": 2
}
